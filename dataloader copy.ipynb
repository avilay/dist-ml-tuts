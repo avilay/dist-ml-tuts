{
 "cells": [
  {
   "cell_type": "code",
   "execution_count": 2,
   "metadata": {},
   "outputs": [],
   "source": [
    "import numpy as np\n",
    "import torch as t\n",
    "import torch.utils.data as td"
   ]
  },
  {
   "cell_type": "code",
   "execution_count": 3,
   "metadata": {},
   "outputs": [],
   "source": [
    "rng = np.random.default_rng()"
   ]
  },
  {
   "cell_type": "code",
   "execution_count": 4,
   "metadata": {},
   "outputs": [],
   "source": [
    "class MyMappedDataset(td.Dataset):\n",
    "    def __init__(self, n=5, m=10):\n",
    "        self._x = np.arange(n * m).reshape(m, n)\n",
    "        self._y = rng.choice([0, 1], size=m, p=[0.7, 0.3])\n",
    "\n",
    "    def __getitem__(self, idx):\n",
    "        return self._x[idx], self._y[idx]\n",
    "\n",
    "    def __len__(self):\n",
    "        return self._x.shape[0]"
   ]
  },
  {
   "cell_type": "code",
   "execution_count": 5,
   "metadata": {},
   "outputs": [],
   "source": [
    "ds = MyMappedDataset(m=5)\n",
    "dl = td.DataLoader(ds)"
   ]
  },
  {
   "cell_type": "code",
   "execution_count": 6,
   "metadata": {},
   "outputs": [
    {
     "name": "stdout",
     "output_type": "stream",
     "text": [
      "\n",
      "Batch---\n",
      "x=tensor([[0, 1, 2, 3, 4]]) y=tensor([1])\n",
      "\n",
      "Batch---\n",
      "x=tensor([[5, 6, 7, 8, 9]]) y=tensor([0])\n",
      "\n",
      "Batch---\n",
      "x=tensor([[10, 11, 12, 13, 14]]) y=tensor([0])\n",
      "\n",
      "Batch---\n",
      "x=tensor([[15, 16, 17, 18, 19]]) y=tensor([0])\n",
      "\n",
      "Batch---\n",
      "x=tensor([[20, 21, 22, 23, 24]]) y=tensor([0])\n"
     ]
    }
   ],
   "source": [
    "for batch in dl:\n",
    "    x, y = batch\n",
    "    print(\"\\nBatch---\")\n",
    "    print(f\"x={x} y={y}\")"
   ]
  },
  {
   "cell_type": "code",
   "execution_count": 7,
   "metadata": {},
   "outputs": [
    {
     "name": "stdout",
     "output_type": "stream",
     "text": [
      "ds[0] = (array([0, 1, 2, 3, 4]), 1)\n",
      "ds[1] = (array([5, 6, 7, 8, 9]), 0)\n",
      "ds[2] = (array([10, 11, 12, 13, 14]), 0)\n",
      "ds[3] = (array([15, 16, 17, 18, 19]), 0)\n",
      "ds[4] = (array([20, 21, 22, 23, 24]), 0)\n"
     ]
    }
   ],
   "source": [
    "for i in range(len(ds)):\n",
    "    print(f\"ds[{i}] = {ds[i]}\")"
   ]
  },
  {
   "cell_type": "code",
   "execution_count": 8,
   "metadata": {},
   "outputs": [
    {
     "name": "stdout",
     "output_type": "stream",
     "text": [
      "sampler:  <torch.utils.data.sampler.SequentialSampler object at 0x14422dc30>\n",
      "batch_sampler:  <torch.utils.data.sampler.BatchSampler object at 0x14422dff0>\n",
      "batch_sampler.sampler:  <torch.utils.data.sampler.SequentialSampler object at 0x14422dc30>\n",
      "batch_size:  1\n"
     ]
    }
   ],
   "source": [
    "print(\"sampler: \", dl.sampler)\n",
    "print(\"batch_sampler: \", dl.batch_sampler)\n",
    "print(\"batch_sampler.sampler: \", dl.batch_sampler.sampler)\n",
    "print(\"batch_size: \", dl.batch_sampler.batch_size)"
   ]
  },
  {
   "attachments": {},
   "cell_type": "markdown",
   "metadata": {},
   "source": [
    "## BatchSampler"
   ]
  },
  {
   "cell_type": "code",
   "execution_count": 9,
   "metadata": {},
   "outputs": [],
   "source": [
    "def iter_dl(dl):\n",
    "    for batch in dl:\n",
    "        x, y = batch\n",
    "        print(\"\\nBatch---\")\n",
    "        print(f\"x={x} y={y}\")"
   ]
  },
  {
   "cell_type": "code",
   "execution_count": 10,
   "metadata": {},
   "outputs": [
    {
     "name": "stdout",
     "output_type": "stream",
     "text": [
      "\n",
      "Batch---\n",
      "x=tensor([[ 0,  1,  2,  3,  4],\n",
      "        [ 5,  6,  7,  8,  9],\n",
      "        [10, 11, 12, 13, 14]]) y=tensor([0, 0, 0])\n",
      "\n",
      "Batch---\n",
      "x=tensor([[15, 16, 17, 18, 19],\n",
      "        [20, 21, 22, 23, 24],\n",
      "        [25, 26, 27, 28, 29]]) y=tensor([0, 0, 0])\n",
      "\n",
      "Batch---\n",
      "x=tensor([[30, 31, 32, 33, 34],\n",
      "        [35, 36, 37, 38, 39],\n",
      "        [40, 41, 42, 43, 44]]) y=tensor([0, 0, 1])\n",
      "\n",
      "Batch---\n",
      "x=tensor([[45, 46, 47, 48, 49]]) y=tensor([0])\n"
     ]
    }
   ],
   "source": [
    "ds = MyMappedDataset(m=10)\n",
    "dl = td.DataLoader(ds, batch_size=3)\n",
    "iter_dl(dl)"
   ]
  },
  {
   "cell_type": "code",
   "execution_count": 11,
   "metadata": {},
   "outputs": [
    {
     "name": "stdout",
     "output_type": "stream",
     "text": [
      "\n",
      "Batch---\n",
      "x=tensor([[ 0,  1,  2,  3,  4],\n",
      "        [ 5,  6,  7,  8,  9],\n",
      "        [10, 11, 12, 13, 14]]) y=tensor([1, 0, 0])\n",
      "\n",
      "Batch---\n",
      "x=tensor([[15, 16, 17, 18, 19],\n",
      "        [20, 21, 22, 23, 24],\n",
      "        [25, 26, 27, 28, 29]]) y=tensor([0, 1, 0])\n",
      "\n",
      "Batch---\n",
      "x=tensor([[30, 31, 32, 33, 34],\n",
      "        [35, 36, 37, 38, 39],\n",
      "        [40, 41, 42, 43, 44]]) y=tensor([1, 0, 0])\n"
     ]
    }
   ],
   "source": [
    "ds = MyMappedDataset(m=10)\n",
    "dl = td.DataLoader(ds, batch_size=3, drop_last=True)\n",
    "iter_dl(dl)"
   ]
  },
  {
   "cell_type": "code",
   "execution_count": 12,
   "metadata": {},
   "outputs": [],
   "source": [
    "def print_dl(dl):\n",
    "    print(\"sampler: \", dl.sampler)\n",
    "    print(\"batch_sampler: \", dl.batch_sampler)\n",
    "    if dl.batch_sampler:\n",
    "        print(\"batch_sampler.sampler: \", dl.batch_sampler.sampler)\n",
    "        print(\"batch_size: \", dl.batch_sampler.batch_size)\n",
    "        print(\"batch_sampler.drop_last: \", dl.batch_sampler.drop_last)"
   ]
  },
  {
   "cell_type": "code",
   "execution_count": 13,
   "metadata": {},
   "outputs": [
    {
     "name": "stdout",
     "output_type": "stream",
     "text": [
      "sampler:  <torch.utils.data.sampler.SequentialSampler object at 0x14422d6f0>\n",
      "batch_sampler:  <torch.utils.data.sampler.BatchSampler object at 0x14422d660>\n",
      "batch_sampler.sampler:  <torch.utils.data.sampler.SequentialSampler object at 0x14422d6f0>\n",
      "batch_size:  3\n",
      "batch_sampler.drop_last:  True\n"
     ]
    }
   ],
   "source": [
    "print_dl(dl)"
   ]
  },
  {
   "cell_type": "code",
   "execution_count": 14,
   "metadata": {},
   "outputs": [
    {
     "name": "stdout",
     "output_type": "stream",
     "text": [
      "[0, 1, 2]\n",
      "[3, 4, 5]\n",
      "[6, 7, 8]\n"
     ]
    }
   ],
   "source": [
    "ds = MyMappedDataset(m=10)\n",
    "batch_sampler = td.BatchSampler(td.SequentialSampler(ds), batch_size=3, drop_last=True)\n",
    "for idxs in batch_sampler:\n",
    "    print(idxs)"
   ]
  },
  {
   "cell_type": "code",
   "execution_count": 15,
   "metadata": {},
   "outputs": [
    {
     "name": "stdout",
     "output_type": "stream",
     "text": [
      "\n",
      "Batch---\n",
      "x=tensor([[ 0,  1,  2,  3,  4],\n",
      "        [ 5,  6,  7,  8,  9],\n",
      "        [10, 11, 12, 13, 14]]) y=tensor([1, 0, 0])\n",
      "\n",
      "Batch---\n",
      "x=tensor([[15, 16, 17, 18, 19],\n",
      "        [20, 21, 22, 23, 24],\n",
      "        [25, 26, 27, 28, 29]]) y=tensor([0, 0, 0])\n",
      "\n",
      "Batch---\n",
      "x=tensor([[30, 31, 32, 33, 34],\n",
      "        [35, 36, 37, 38, 39],\n",
      "        [40, 41, 42, 43, 44]]) y=tensor([1, 0, 0])\n"
     ]
    }
   ],
   "source": [
    "ds = MyMappedDataset(m=10)\n",
    "batch_sampler = td.BatchSampler(td.SequentialSampler(ds), batch_size=3, drop_last=True)\n",
    "dl = td.DataLoader(ds, batch_sampler=batch_sampler)\n",
    "\n",
    "# Equivalent -\n",
    "# ds = MyMappedDataset(m=10)\n",
    "# dl = td.DataLoader(ds, batch_size=3, drop_last=True)\n",
    "iter_dl(dl)"
   ]
  },
  {
   "cell_type": "code",
   "execution_count": 16,
   "metadata": {},
   "outputs": [],
   "source": [
    "ds = MyMappedDataset(m=5)\n",
    "dl = td.DataLoader(ds, batch_size=None)"
   ]
  },
  {
   "cell_type": "code",
   "execution_count": 17,
   "metadata": {},
   "outputs": [
    {
     "name": "stdout",
     "output_type": "stream",
     "text": [
      "\n",
      "Batch---\n",
      "x=tensor([0, 1, 2, 3, 4]) y=0\n",
      "\n",
      "Batch---\n",
      "x=tensor([5, 6, 7, 8, 9]) y=1\n",
      "\n",
      "Batch---\n",
      "x=tensor([10, 11, 12, 13, 14]) y=1\n",
      "\n",
      "Batch---\n",
      "x=tensor([15, 16, 17, 18, 19]) y=1\n",
      "\n",
      "Batch---\n",
      "x=tensor([20, 21, 22, 23, 24]) y=1\n"
     ]
    }
   ],
   "source": [
    "iter_dl(dl)"
   ]
  },
  {
   "cell_type": "code",
   "execution_count": 18,
   "metadata": {},
   "outputs": [
    {
     "name": "stdout",
     "output_type": "stream",
     "text": [
      "sampler:  <torch.utils.data.sampler.SequentialSampler object at 0x14422c4f0>\n",
      "batch_sampler:  None\n"
     ]
    }
   ],
   "source": [
    "print_dl(dl)"
   ]
  },
  {
   "attachments": {},
   "cell_type": "markdown",
   "metadata": {},
   "source": [
    "```\n",
    "[9]\n",
    "[8], [7]\n",
    "[6], [5], [3],\n",
    "...\n",
    "```"
   ]
  },
  {
   "cell_type": "code",
   "execution_count": 19,
   "metadata": {},
   "outputs": [],
   "source": [
    "class RevLinBatcher(td.Sampler):\n",
    "    def __init__(self, data_source):\n",
    "        self._len = len(data_source)\n",
    "\n",
    "    def __iter__(self):\n",
    "        sz = 1\n",
    "        batch = []\n",
    "        for idx in range(self._len-1, -1, -1):\n",
    "            batch.append(idx)\n",
    "            if len(batch) == sz:\n",
    "                yield batch\n",
    "                batch = []\n",
    "                sz += 1\n",
    "        if len(batch) > 0:\n",
    "            yield batch"
   ]
  },
  {
   "cell_type": "code",
   "execution_count": 20,
   "metadata": {},
   "outputs": [
    {
     "name": "stdout",
     "output_type": "stream",
     "text": [
      "[9]\n",
      "[8, 7]\n",
      "[6, 5, 4]\n",
      "[3, 2, 1, 0]\n"
     ]
    }
   ],
   "source": [
    "ds = MyMappedDataset(m=10)\n",
    "revlin = RevLinBatcher(ds)\n",
    "for idxs in revlin:\n",
    "    print(idxs)"
   ]
  },
  {
   "cell_type": "code",
   "execution_count": 21,
   "metadata": {},
   "outputs": [
    {
     "name": "stdout",
     "output_type": "stream",
     "text": [
      "\n",
      "Batch---\n",
      "x=tensor([[55, 56, 57, 58, 59]]) y=tensor([1])\n",
      "\n",
      "Batch---\n",
      "x=tensor([[50, 51, 52, 53, 54],\n",
      "        [45, 46, 47, 48, 49]]) y=tensor([0, 0])\n",
      "\n",
      "Batch---\n",
      "x=tensor([[40, 41, 42, 43, 44],\n",
      "        [35, 36, 37, 38, 39],\n",
      "        [30, 31, 32, 33, 34]]) y=tensor([0, 0, 0])\n",
      "\n",
      "Batch---\n",
      "x=tensor([[25, 26, 27, 28, 29],\n",
      "        [20, 21, 22, 23, 24],\n",
      "        [15, 16, 17, 18, 19],\n",
      "        [10, 11, 12, 13, 14]]) y=tensor([1, 0, 1, 0])\n",
      "\n",
      "Batch---\n",
      "x=tensor([[5, 6, 7, 8, 9],\n",
      "        [0, 1, 2, 3, 4]]) y=tensor([0, 1])\n"
     ]
    }
   ],
   "source": [
    "ds = MyMappedDataset(m=12)\n",
    "revlin = RevLinBatcher(ds)\n",
    "dl = td.DataLoader(ds, batch_sampler=revlin)\n",
    "iter_dl(dl)"
   ]
  },
  {
   "cell_type": "code",
   "execution_count": 34,
   "metadata": {},
   "outputs": [
    {
     "name": "stdout",
     "output_type": "stream",
     "text": [
      "ERROR: batch_sampler option is mutually exclusive with batch_size, shuffle, sampler, and drop_last\n"
     ]
    }
   ],
   "source": [
    "ds = MyMappedDataset(m=12)\n",
    "revlin = RevLinBatcher(ds)\n",
    "try:\n",
    "    dl = td.DataLoader(ds, batch_sampler=revlin, drop_last=True)\n",
    "    iter_dl(dl)\n",
    "except ValueError as err:\n",
    "    print(\"ERROR:\", err)"
   ]
  },
  {
   "attachments": {},
   "cell_type": "markdown",
   "metadata": {},
   "source": [
    "## Samplers"
   ]
  },
  {
   "cell_type": "code",
   "execution_count": 23,
   "metadata": {},
   "outputs": [
    {
     "name": "stdout",
     "output_type": "stream",
     "text": [
      "0 1 2 3 4 5 6 7 8 9 "
     ]
    }
   ],
   "source": [
    "sampler = td.SequentialSampler(MyMappedDataset())\n",
    "for idx in sampler:\n",
    "    print(idx, end=\" \")"
   ]
  },
  {
   "cell_type": "code",
   "execution_count": 26,
   "metadata": {},
   "outputs": [
    {
     "name": "stdout",
     "output_type": "stream",
     "text": [
      "5 0 6 7 3 2 4 1 8 9 "
     ]
    }
   ],
   "source": [
    "sampler = td.RandomSampler(MyMappedDataset())\n",
    "for idx in sampler:\n",
    "    print(idx, end=\" \")"
   ]
  },
  {
   "cell_type": "code",
   "execution_count": 28,
   "metadata": {},
   "outputs": [
    {
     "name": "stdout",
     "output_type": "stream",
     "text": [
      "\n",
      "Batch---\n",
      "x=tensor([[10, 11, 12, 13, 14],\n",
      "        [35, 36, 37, 38, 39],\n",
      "        [15, 16, 17, 18, 19]]) y=tensor([0, 1, 1])\n",
      "\n",
      "Batch---\n",
      "x=tensor([[40, 41, 42, 43, 44],\n",
      "        [30, 31, 32, 33, 34],\n",
      "        [45, 46, 47, 48, 49]]) y=tensor([0, 0, 0])\n",
      "\n",
      "Batch---\n",
      "x=tensor([[20, 21, 22, 23, 24],\n",
      "        [ 5,  6,  7,  8,  9],\n",
      "        [ 0,  1,  2,  3,  4]]) y=tensor([0, 0, 0])\n"
     ]
    }
   ],
   "source": [
    "ds = MyMappedDataset(m=10)\n",
    "batch_sampler = td.BatchSampler(td.RandomSampler(ds), batch_size=3, drop_last=True)\n",
    "dl = td.DataLoader(ds, batch_sampler=batch_sampler)\n",
    "iter_dl(dl)"
   ]
  },
  {
   "cell_type": "code",
   "execution_count": 29,
   "metadata": {},
   "outputs": [
    {
     "name": "stdout",
     "output_type": "stream",
     "text": [
      "\n",
      "Batch---\n",
      "x=tensor([[10, 11, 12, 13, 14],\n",
      "        [45, 46, 47, 48, 49],\n",
      "        [30, 31, 32, 33, 34]]) y=tensor([0, 0, 0])\n",
      "\n",
      "Batch---\n",
      "x=tensor([[ 5,  6,  7,  8,  9],\n",
      "        [40, 41, 42, 43, 44],\n",
      "        [20, 21, 22, 23, 24]]) y=tensor([1, 0, 0])\n",
      "\n",
      "Batch---\n",
      "x=tensor([[15, 16, 17, 18, 19],\n",
      "        [25, 26, 27, 28, 29],\n",
      "        [35, 36, 37, 38, 39]]) y=tensor([0, 1, 0])\n"
     ]
    }
   ],
   "source": [
    "ds = MyMappedDataset(m=10)\n",
    "# batch_sampler = td.BatchSampler(td.RandomSampler(ds), batch_size=3, drop_last=True)\n",
    "dl = td.DataLoader(ds, batch_size=3, drop_last=True, shuffle=True)\n",
    "iter_dl(dl)"
   ]
  },
  {
   "cell_type": "code",
   "execution_count": 30,
   "metadata": {},
   "outputs": [
    {
     "name": "stdout",
     "output_type": "stream",
     "text": [
      "sampler:  <torch.utils.data.sampler.RandomSampler object at 0x12e8a0dc0>\n",
      "batch_sampler:  <torch.utils.data.sampler.BatchSampler object at 0x1442da050>\n",
      "batch_sampler.sampler:  <torch.utils.data.sampler.RandomSampler object at 0x12e8a0dc0>\n",
      "batch_size:  3\n",
      "batch_sampler.drop_last:  True\n"
     ]
    }
   ],
   "source": [
    "print_dl(dl)"
   ]
  },
  {
   "cell_type": "code",
   "execution_count": 42,
   "metadata": {},
   "outputs": [],
   "source": [
    "class ReverseSampler(td.Sampler):\n",
    "    def __init__(self, data_source):\n",
    "        super().__init__(data_source)\n",
    "        self._len = len(data_source)\n",
    "\n",
    "    def __iter__(self):\n",
    "        yield from range(self._len-1, -1, -1)\n",
    "\n",
    "    def __len__(self):\n",
    "        return self._len"
   ]
  },
  {
   "cell_type": "code",
   "execution_count": 43,
   "metadata": {},
   "outputs": [
    {
     "name": "stdout",
     "output_type": "stream",
     "text": [
      "9 8 7 6 5 4 3 2 1 0 "
     ]
    }
   ],
   "source": [
    "sampler = ReverseSampler(MyMappedDataset())\n",
    "for idx in sampler:\n",
    "    print(idx, end=\" \")"
   ]
  },
  {
   "cell_type": "code",
   "execution_count": 44,
   "metadata": {},
   "outputs": [
    {
     "name": "stdout",
     "output_type": "stream",
     "text": [
      "\n",
      "Batch---\n",
      "x=tensor([[55, 56, 57, 58, 59],\n",
      "        [50, 51, 52, 53, 54],\n",
      "        [45, 46, 47, 48, 49]]) y=tensor([0, 0, 0])\n",
      "\n",
      "Batch---\n",
      "x=tensor([[40, 41, 42, 43, 44],\n",
      "        [35, 36, 37, 38, 39],\n",
      "        [30, 31, 32, 33, 34]]) y=tensor([0, 0, 0])\n",
      "\n",
      "Batch---\n",
      "x=tensor([[25, 26, 27, 28, 29],\n",
      "        [20, 21, 22, 23, 24],\n",
      "        [15, 16, 17, 18, 19]]) y=tensor([0, 0, 1])\n",
      "\n",
      "Batch---\n",
      "x=tensor([[10, 11, 12, 13, 14],\n",
      "        [ 5,  6,  7,  8,  9],\n",
      "        [ 0,  1,  2,  3,  4]]) y=tensor([1, 1, 1])\n"
     ]
    }
   ],
   "source": [
    "ds = MyMappedDataset(m=12)\n",
    "sampler = ReverseSampler(ds)\n",
    "dl = td.DataLoader(ds, sampler=sampler, batch_size=3, drop_last=True)\n",
    "iter_dl(dl)"
   ]
  },
  {
   "cell_type": "code",
   "execution_count": 45,
   "metadata": {},
   "outputs": [
    {
     "name": "stdout",
     "output_type": "stream",
     "text": [
      "sampler:  <__main__.ReverseSampler object at 0x1447081f0>\n",
      "batch_sampler:  <torch.utils.data.sampler.BatchSampler object at 0x14439b940>\n",
      "batch_sampler.sampler:  <__main__.ReverseSampler object at 0x1447081f0>\n",
      "batch_size:  3\n",
      "batch_sampler.drop_last:  True\n"
     ]
    }
   ],
   "source": [
    "print_dl(dl)"
   ]
  },
  {
   "cell_type": "code",
   "execution_count": 47,
   "metadata": {},
   "outputs": [
    {
     "name": "stdout",
     "output_type": "stream",
     "text": [
      "ERROR: batch_sampler option is mutually exclusive with batch_size, shuffle, sampler, and drop_last\n"
     ]
    }
   ],
   "source": [
    "try:\n",
    "    ds = MyMappedDataset()\n",
    "    # dl = td.DataLoader(ds, batch_sampler=RevLinBatcher(ds), shuffle=True)\n",
    "    dl = td.DataLoader(ds, batch_sampler=RevLinBatcher(ds), sampler=ReverseSampler(ds))\n",
    "except ValueError as err:\n",
    "    print(\"ERROR:\", err)"
   ]
  },
  {
   "cell_type": "code",
   "execution_count": null,
   "metadata": {},
   "outputs": [],
   "source": []
  }
 ],
 "metadata": {
  "kernelspec": {
   "display_name": "ai",
   "language": "python",
   "name": "python3"
  },
  "language_info": {
   "codemirror_mode": {
    "name": "ipython",
    "version": 3
   },
   "file_extension": ".py",
   "mimetype": "text/x-python",
   "name": "python",
   "nbconvert_exporter": "python",
   "pygments_lexer": "ipython3",
   "version": "3.10.6"
  },
  "orig_nbformat": 4,
  "vscode": {
   "interpreter": {
    "hash": "c957e4ca480fc31da01b2648e097b4e55db834b6351128636991f182c884d81e"
   }
  }
 },
 "nbformat": 4,
 "nbformat_minor": 2
}

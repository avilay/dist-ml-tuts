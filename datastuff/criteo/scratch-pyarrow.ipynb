{
 "cells": [
  {
   "cell_type": "code",
   "execution_count": 19,
   "metadata": {},
   "outputs": [],
   "source": [
    "import pyarrow as pa\n",
    "import pyarrow.parquet as pq\n",
    "import pyarrow.csv as pcsv\n",
    "import pyarrow.dataset as ds\n",
    "from pathlib import Path"
   ]
  },
  {
   "cell_type": "code",
   "execution_count": 7,
   "metadata": {},
   "outputs": [
    {
     "data": {
      "text/plain": [
       "PosixPath('/Users/avilay/temp/criteo-kaggle-small/data')"
      ]
     },
     "execution_count": 7,
     "metadata": {},
     "output_type": "execute_result"
    }
   ],
   "source": [
    "DATAROOT = Path.home() / \"temp/criteo-kaggle-small/data\"\n",
    "DATAROOT"
   ]
  },
  {
   "cell_type": "code",
   "execution_count": 21,
   "metadata": {},
   "outputs": [
    {
     "data": {
      "text/plain": [
       "['label',\n",
       " 'i1',\n",
       " 'i2',\n",
       " 'i3',\n",
       " 'i4',\n",
       " 'i5',\n",
       " 'i6',\n",
       " 'i7',\n",
       " 'i8',\n",
       " 'i9',\n",
       " 'i10',\n",
       " 'i11',\n",
       " 'i12',\n",
       " 'i13',\n",
       " 's1',\n",
       " 's2',\n",
       " 's3',\n",
       " 's4',\n",
       " 's5',\n",
       " 's6',\n",
       " 's7',\n",
       " 's8',\n",
       " 's9',\n",
       " 's10',\n",
       " 's11',\n",
       " 's12',\n",
       " 's13',\n",
       " 's14',\n",
       " 's15',\n",
       " 's16',\n",
       " 's17',\n",
       " 's18',\n",
       " 's19',\n",
       " 's20',\n",
       " 's21',\n",
       " 's22',\n",
       " 's23',\n",
       " 's24',\n",
       " 's25',\n",
       " 's26']"
      ]
     },
     "execution_count": 21,
     "metadata": {},
     "output_type": "execute_result"
    }
   ],
   "source": [
    "intcols = [f\"i{i}\" for i in range(1, 14)]\n",
    "strcols = [f\"s{i}\" for i in range(1, 27)]\n",
    "colnames = [\"label\"] + intcols + strcols\n",
    "colnames"
   ]
  },
  {
   "cell_type": "code",
   "execution_count": 22,
   "metadata": {},
   "outputs": [
    {
     "data": {
      "text/plain": [
       "<CsvFileFormat parse_options=<pyarrow._csv.ParseOptions object at 0xffff5bddc900>>"
      ]
     },
     "execution_count": 22,
     "metadata": {},
     "output_type": "execute_result"
    }
   ],
   "source": [
    "fileformat = ds.CsvFileFormat(\n",
    "    parse_options=pcsv.ParseOptions(delimiter=\"\\t\"),\n",
    "    read_options=pcsv.ReadOptions(column_names=colnames)\n",
    ")\n",
    "fileformat"
   ]
  },
  {
   "cell_type": "code",
   "execution_count": 8,
   "metadata": {},
   "outputs": [
    {
     "data": {
      "text/plain": [
       "PosixPath('/Users/avilay/temp/criteo-kaggle-small/data/tsv')"
      ]
     },
     "execution_count": 8,
     "metadata": {},
     "output_type": "execute_result"
    }
   ],
   "source": [
    "src = DATAROOT / \"tsv\"\n",
    "src"
   ]
  },
  {
   "cell_type": "code",
   "execution_count": 23,
   "metadata": {},
   "outputs": [
    {
     "data": {
      "text/plain": [
       "label: int8\n",
       "i1: int32\n",
       "i2: int32\n",
       "i3: int32\n",
       "i4: int32\n",
       "i5: int32\n",
       "i6: int32\n",
       "i7: int32\n",
       "i8: int32\n",
       "i9: int32\n",
       "i10: int32\n",
       "i11: int32\n",
       "i12: int32\n",
       "i13: int32\n",
       "s1: string\n",
       "s2: string\n",
       "s3: string\n",
       "s4: string\n",
       "s5: string\n",
       "s6: string\n",
       "s7: string\n",
       "s8: string\n",
       "s9: string\n",
       "s10: string\n",
       "s11: string\n",
       "s12: string\n",
       "s13: string\n",
       "s14: string\n",
       "s15: string\n",
       "s16: string\n",
       "s17: string\n",
       "s18: string\n",
       "s19: string\n",
       "s20: string\n",
       "s21: string\n",
       "s22: string\n",
       "s23: string\n",
       "s24: string\n",
       "s25: string\n",
       "s26: string"
      ]
     },
     "execution_count": 23,
     "metadata": {},
     "output_type": "execute_result"
    }
   ],
   "source": [
    "labelschema = [(\"label\", pa.int8())]\n",
    "intschema = [(colname, pa.int32()) for colname in intcols]\n",
    "strschema = [(colname, pa.string()) for colname in strcols]\n",
    "\n",
    "schema = pa.schema(labelschema + intschema + strschema)\n",
    "schema"
   ]
  },
  {
   "cell_type": "code",
   "execution_count": 10,
   "metadata": {},
   "outputs": [],
   "source": [
    "criteo = ds.dataset(source=src, schema=schema, format=fileformat)"
   ]
  },
  {
   "cell_type": "code",
   "execution_count": 12,
   "metadata": {},
   "outputs": [
    {
     "data": {
      "text/plain": [
       "PosixPath('/Users/avilay/temp/criteo-kaggle-small/data/parquet')"
      ]
     },
     "execution_count": 12,
     "metadata": {},
     "output_type": "execute_result"
    }
   ],
   "source": [
    "dst = DATAROOT / \"parquet\"\n",
    "dst"
   ]
  },
  {
   "cell_type": "code",
   "execution_count": 13,
   "metadata": {},
   "outputs": [
    {
     "data": {
      "text/plain": [
       "<pyarrow._dataset_parquet.ParquetFileWriteOptions at 0x106c4da80>"
      ]
     },
     "execution_count": 13,
     "metadata": {},
     "output_type": "execute_result"
    }
   ],
   "source": [
    "wo = ds.ParquetFileFormat().make_write_options(compression=\"gzip\")\n",
    "wo"
   ]
  },
  {
   "cell_type": "code",
   "execution_count": 14,
   "metadata": {},
   "outputs": [],
   "source": [
    "ds.write_dataset(criteo, dst, format=\"parquet\", file_options=wo)"
   ]
  },
  {
   "cell_type": "code",
   "execution_count": 1,
   "metadata": {},
   "outputs": [],
   "source": [
    "import tarfile"
   ]
  },
  {
   "cell_type": "code",
   "execution_count": 2,
   "metadata": {},
   "outputs": [],
   "source": [
    "src = \"/home/admin/mldata/criteo/kaggle/tsv/criteo-research-kaggle-display-advertising-challenge-dataset.tar.gz\"\n",
    "dst = \"/home/admin/mldata/criteo/kaggle/tsv/\"\n"
   ]
  },
  {
   "cell_type": "code",
   "execution_count": 7,
   "metadata": {},
   "outputs": [],
   "source": [
    "tp = tarfile.open(src)"
   ]
  },
  {
   "cell_type": "code",
   "execution_count": 10,
   "metadata": {},
   "outputs": [
    {
     "data": {
      "text/plain": [
       "tarfile.TarFile"
      ]
     },
     "execution_count": 10,
     "metadata": {},
     "output_type": "execute_result"
    }
   ],
   "source": [
    "type(tp)"
   ]
  },
  {
   "cell_type": "code",
   "execution_count": 11,
   "metadata": {},
   "outputs": [
    {
     "data": {
      "text/plain": [
       "['readme.txt', 'test.txt', 'train.txt']"
      ]
     },
     "execution_count": 11,
     "metadata": {},
     "output_type": "execute_result"
    }
   ],
   "source": [
    "tp.getnames()"
   ]
  },
  {
   "cell_type": "code",
   "execution_count": 12,
   "metadata": {},
   "outputs": [],
   "source": [
    "import shutil"
   ]
  },
  {
   "cell_type": "code",
   "execution_count": 13,
   "metadata": {},
   "outputs": [],
   "source": [
    "shutil.unpack_archive(src, dst)"
   ]
  },
  {
   "cell_type": "code",
   "execution_count": 14,
   "metadata": {},
   "outputs": [],
   "source": [
    "import os"
   ]
  },
  {
   "cell_type": "code",
   "execution_count": 38,
   "metadata": {},
   "outputs": [
    {
     "data": {
      "text/plain": [
       "PosixPath('/home/admin/mldata/criteo/kaggle/tsv')"
      ]
     },
     "execution_count": 38,
     "metadata": {},
     "output_type": "execute_result"
    }
   ],
   "source": [
    "dst = Path(dst)\n",
    "dst"
   ]
  },
  {
   "cell_type": "code",
   "execution_count": 39,
   "metadata": {},
   "outputs": [
    {
     "data": {
      "text/plain": [
       "[PosixPath('/home/admin/mldata/criteo/kaggle/tsv/criteo-research-kaggle-display-advertising-challenge-dataset.tar.gz'),\n",
       " PosixPath('/home/admin/mldata/criteo/kaggle/tsv/test.txt'),\n",
       " PosixPath('/home/admin/mldata/criteo/kaggle/tsv/train.txt'),\n",
       " PosixPath('/home/admin/mldata/criteo/kaggle/tsv/readme.txt')]"
      ]
     },
     "execution_count": 39,
     "metadata": {},
     "output_type": "execute_result"
    }
   ],
   "source": [
    "[dst / p for p in os.listdir(dst)]"
   ]
  },
  {
   "cell_type": "code",
   "execution_count": 16,
   "metadata": {},
   "outputs": [],
   "source": [
    "from cprint import info_print"
   ]
  },
  {
   "cell_type": "code",
   "execution_count": 17,
   "metadata": {},
   "outputs": [
    {
     "ename": "TypeError",
     "evalue": "info_print() got an unexpected keyword argument 'end'",
     "output_type": "error",
     "traceback": [
      "\u001b[0;31m---------------------------------------------------------------------------\u001b[0m",
      "\u001b[0;31mTypeError\u001b[0m                                 Traceback (most recent call last)",
      "\u001b[1;32m/home/admin/projects/github/dist-ml-tuts/datastuff/criteo/scratch-pyarrow.ipynb Cell 21\u001b[0m in \u001b[0;36m<cell line: 1>\u001b[0;34m()\u001b[0m\n\u001b[0;32m----> <a href='vscode-notebook-cell://ssh-remote%2Btrantor-1/home/admin/projects/github/dist-ml-tuts/datastuff/criteo/scratch-pyarrow.ipynb#X31sdnNjb2RlLXJlbW90ZQ%3D%3D?line=0'>1</a>\u001b[0m info_print(\u001b[39m\"\u001b[39;49m\u001b[39mHello\u001b[39;49m\u001b[39m\"\u001b[39;49m, end\u001b[39m=\u001b[39;49m\u001b[39m\"\u001b[39;49m\u001b[39m\"\u001b[39;49m)\n\u001b[1;32m      <a href='vscode-notebook-cell://ssh-remote%2Btrantor-1/home/admin/projects/github/dist-ml-tuts/datastuff/criteo/scratch-pyarrow.ipynb#X31sdnNjb2RlLXJlbW90ZQ%3D%3D?line=1'>2</a>\u001b[0m info_print(\u001b[39m\"\u001b[39m\u001b[39mDone\u001b[39m\u001b[39m\"\u001b[39m)\n",
      "\u001b[0;31mTypeError\u001b[0m: info_print() got an unexpected keyword argument 'end'"
     ]
    }
   ],
   "source": [
    "info_print(\"Hello\", end=\"\")\n",
    "info_print(\"Done\")"
   ]
  },
  {
   "cell_type": "code",
   "execution_count": 26,
   "metadata": {},
   "outputs": [],
   "source": [
    "src = \"/home/admin/mldata/criteo/kaggle/tsv/readme.txt\"\n",
    "dataset = ds.dataset(source=src, schema=schema, format=fileformat)"
   ]
  },
  {
   "cell_type": "code",
   "execution_count": 32,
   "metadata": {},
   "outputs": [
    {
     "name": "stdout",
     "output_type": "stream",
     "text": [
      "<class 'pyarrow.lib.ArrowInvalid'>\n",
      "Could not open CSV input source '/home/admin/mldata/criteo/kaggle/tsv/readme.txt': Invalid: CSV parse error: Row #1: Expected 40 columns, got 1:         ------ Display Advertising Challenge ------\n"
     ]
    }
   ],
   "source": [
    "try:\n",
    "    dataset.head(10)\n",
    "except Exception as err:\n",
    "    print(type(err))\n",
    "    print(err)"
   ]
  },
  {
   "cell_type": "code",
   "execution_count": 33,
   "metadata": {},
   "outputs": [],
   "source": [
    "from pyarrow.lib import ArrowInvalid"
   ]
  },
  {
   "cell_type": "code",
   "execution_count": 37,
   "metadata": {},
   "outputs": [
    {
     "ename": "ArrowInvalid",
     "evalue": "Could not write to /home/admin/mldata/criteo/kaggle/tsv as the directory is not empty and existing_data_behavior is to error",
     "output_type": "error",
     "traceback": [
      "\u001b[0;31m---------------------------------------------------------------------------\u001b[0m",
      "\u001b[0;31mArrowInvalid\u001b[0m                              Traceback (most recent call last)",
      "\u001b[1;32m/home/admin/projects/github/dist-ml-tuts/datastuff/criteo/scratch-pyarrow.ipynb Cell 26\u001b[0m in \u001b[0;36m<cell line: 1>\u001b[0;34m()\u001b[0m\n\u001b[0;32m----> <a href='vscode-notebook-cell://ssh-remote%2Btrantor-1/home/admin/projects/github/dist-ml-tuts/datastuff/criteo/scratch-pyarrow.ipynb#X36sdnNjb2RlLXJlbW90ZQ%3D%3D?line=0'>1</a>\u001b[0m ds\u001b[39m.\u001b[39;49mwrite_dataset(dataset, dst, \u001b[39mformat\u001b[39;49m\u001b[39m=\u001b[39;49m\u001b[39m\"\u001b[39;49m\u001b[39mparquet\u001b[39;49m\u001b[39m\"\u001b[39;49m)\n",
      "File \u001b[0;32m~/miniconda3/envs/dev/lib/python3.10/site-packages/pyarrow/dataset.py:985\u001b[0m, in \u001b[0;36mwrite_dataset\u001b[0;34m(data, base_dir, basename_template, format, partitioning, partitioning_flavor, schema, filesystem, file_options, use_threads, max_partitions, max_open_files, max_rows_per_file, min_rows_per_group, max_rows_per_group, file_visitor, existing_data_behavior, create_dir)\u001b[0m\n\u001b[1;32m    982\u001b[0m         \u001b[39mraise\u001b[39;00m \u001b[39mValueError\u001b[39;00m(\u001b[39m\"\u001b[39m\u001b[39mCannot specify a schema when writing a Scanner\u001b[39m\u001b[39m\"\u001b[39m)\n\u001b[1;32m    983\u001b[0m     scanner \u001b[39m=\u001b[39m data\n\u001b[0;32m--> 985\u001b[0m _filesystemdataset_write(\n\u001b[1;32m    986\u001b[0m     scanner, base_dir, basename_template, filesystem, partitioning,\n\u001b[1;32m    987\u001b[0m     file_options, max_partitions, file_visitor, existing_data_behavior,\n\u001b[1;32m    988\u001b[0m     max_open_files, max_rows_per_file,\n\u001b[1;32m    989\u001b[0m     min_rows_per_group, max_rows_per_group, create_dir\n\u001b[1;32m    990\u001b[0m )\n",
      "File \u001b[0;32m~/miniconda3/envs/dev/lib/python3.10/site-packages/pyarrow/_dataset.pyx:2775\u001b[0m, in \u001b[0;36mpyarrow._dataset._filesystemdataset_write\u001b[0;34m()\u001b[0m\n",
      "File \u001b[0;32m~/miniconda3/envs/dev/lib/python3.10/site-packages/pyarrow/error.pxi:100\u001b[0m, in \u001b[0;36mpyarrow.lib.check_status\u001b[0;34m()\u001b[0m\n",
      "\u001b[0;31mArrowInvalid\u001b[0m: Could not write to /home/admin/mldata/criteo/kaggle/tsv as the directory is not empty and existing_data_behavior is to error"
     ]
    }
   ],
   "source": [
    "ds.write_dataset(dataset, dst, format=\"parquet\")"
   ]
  },
  {
   "cell_type": "code",
   "execution_count": 40,
   "metadata": {},
   "outputs": [],
   "source": [
    "import sys"
   ]
  },
  {
   "cell_type": "code",
   "execution_count": 41,
   "metadata": {},
   "outputs": [],
   "source": [
    "def print_now(*args, **kwargs):\n",
    "    print(*args, **kwargs)\n",
    "    sys.stdout.flush()"
   ]
  },
  {
   "cell_type": "code",
   "execution_count": 42,
   "metadata": {},
   "outputs": [
    {
     "name": "stdout",
     "output_type": "stream",
     "text": [
      "Hello\n"
     ]
    }
   ],
   "source": [
    "print_now(\"Hello\")"
   ]
  },
  {
   "cell_type": "code",
   "execution_count": 43,
   "metadata": {},
   "outputs": [
    {
     "name": "stdout",
     "output_type": "stream",
     "text": [
      "helloworld\n"
     ]
    }
   ],
   "source": [
    "print_now(\"hello\", end=\"\")\n",
    "print_now(\"world\")"
   ]
  },
  {
   "cell_type": "code",
   "execution_count": 49,
   "metadata": {},
   "outputs": [
    {
     "name": "stdout",
     "output_type": "stream",
     "text": [
      "[Errno 2] No such file or directory: '/home/admin/mldata/haha/criteo/kaggle/tsv'\n"
     ]
    }
   ],
   "source": [
    "tp = Path.home() / \"mldata/haha/criteo/kaggle/tsv\"\n",
    "try:\n",
    "    os.mkdir(tp)\n",
    "except (FileExistsError, FileNotFoundError) as err:\n",
    "    print(err)"
   ]
  },
  {
   "cell_type": "code",
   "execution_count": null,
   "metadata": {},
   "outputs": [],
   "source": []
  }
 ],
 "metadata": {
  "kernelspec": {
   "display_name": "Python 3.10.4 ('dev')",
   "language": "python",
   "name": "python3"
  },
  "language_info": {
   "codemirror_mode": {
    "name": "ipython",
    "version": 3
   },
   "file_extension": ".py",
   "mimetype": "text/x-python",
   "name": "python",
   "nbconvert_exporter": "python",
   "pygments_lexer": "ipython3",
   "version": "3.10.4"
  },
  "orig_nbformat": 4,
  "vscode": {
   "interpreter": {
    "hash": "663147e40b4afd0b19bbc16928b97b883ecc70beefa895acda9474b33b61acef"
   }
  }
 },
 "nbformat": 4,
 "nbformat_minor": 2
}

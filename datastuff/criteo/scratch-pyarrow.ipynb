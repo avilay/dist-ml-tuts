{
 "cells": [
  {
   "cell_type": "code",
   "execution_count": 1,
   "metadata": {},
   "outputs": [],
   "source": [
    "import pyarrow as pa\n",
    "import pyarrow.parquet as pq\n",
    "import pyarrow.csv as pcsv\n",
    "import pyarrow.dataset as ds\n",
    "from pathlib import Path"
   ]
  },
  {
   "cell_type": "code",
   "execution_count": 7,
   "metadata": {},
   "outputs": [
    {
     "data": {
      "text/plain": [
       "PosixPath('/Users/avilay/temp/criteo-kaggle-small/data')"
      ]
     },
     "execution_count": 7,
     "metadata": {},
     "output_type": "execute_result"
    }
   ],
   "source": [
    "DATAROOT = Path.home() / \"temp/criteo-kaggle-small/data\"\n",
    "DATAROOT"
   ]
  },
  {
   "cell_type": "code",
   "execution_count": 4,
   "metadata": {},
   "outputs": [
    {
     "data": {
      "text/plain": [
       "['label',\n",
       " 'i1',\n",
       " 'i2',\n",
       " 'i3',\n",
       " 'i4',\n",
       " 'i5',\n",
       " 'i6',\n",
       " 'i7',\n",
       " 'i8',\n",
       " 'i9',\n",
       " 'i10',\n",
       " 'i11',\n",
       " 'i12',\n",
       " 'i13',\n",
       " 's1',\n",
       " 's2',\n",
       " 's3',\n",
       " 's4',\n",
       " 's5',\n",
       " 's6',\n",
       " 's7',\n",
       " 's8',\n",
       " 's9',\n",
       " 's10',\n",
       " 's11',\n",
       " 's12',\n",
       " 's13',\n",
       " 's14',\n",
       " 's15',\n",
       " 's16',\n",
       " 's17',\n",
       " 's18',\n",
       " 's19',\n",
       " 's20',\n",
       " 's21',\n",
       " 's22',\n",
       " 's23',\n",
       " 's24',\n",
       " 's25',\n",
       " 's26']"
      ]
     },
     "execution_count": 4,
     "metadata": {},
     "output_type": "execute_result"
    }
   ],
   "source": [
    "intcols = [f\"i{i}\" for i in range(1, 14)]\n",
    "strcols = [f\"s{i}\" for i in range(1, 27)]\n",
    "colnames = [\"label\"] + intcols + strcols\n",
    "colnames"
   ]
  },
  {
   "cell_type": "code",
   "execution_count": 5,
   "metadata": {},
   "outputs": [
    {
     "data": {
      "text/plain": [
       "<CsvFileFormat parse_options=<pyarrow._csv.ParseOptions object at 0x1279bd980>>"
      ]
     },
     "execution_count": 5,
     "metadata": {},
     "output_type": "execute_result"
    }
   ],
   "source": [
    "fileformat = ds.CsvFileFormat(\n",
    "    parse_options=pcsv.ParseOptions(delimiter=\"\\t\"),\n",
    "    read_options=pcsv.ReadOptions(column_names=colnames)\n",
    ")\n",
    "fileformat"
   ]
  },
  {
   "cell_type": "code",
   "execution_count": 8,
   "metadata": {},
   "outputs": [
    {
     "data": {
      "text/plain": [
       "PosixPath('/Users/avilay/temp/criteo-kaggle-small/data/tsv')"
      ]
     },
     "execution_count": 8,
     "metadata": {},
     "output_type": "execute_result"
    }
   ],
   "source": [
    "src = DATAROOT / \"tsv\"\n",
    "src"
   ]
  },
  {
   "cell_type": "code",
   "execution_count": 9,
   "metadata": {},
   "outputs": [
    {
     "data": {
      "text/plain": [
       "label: int8\n",
       "i1: int32\n",
       "i2: int32\n",
       "i3: int32\n",
       "i4: int32\n",
       "i5: int32\n",
       "i6: int32\n",
       "i7: int32\n",
       "i8: int32\n",
       "i9: int32\n",
       "i10: int32\n",
       "i11: int32\n",
       "i12: int32\n",
       "i13: int32\n",
       "s1: string\n",
       "s2: string\n",
       "s3: string\n",
       "s4: string\n",
       "s5: string\n",
       "s6: string\n",
       "s7: string\n",
       "s8: string\n",
       "s9: string\n",
       "s10: string\n",
       "s11: string\n",
       "s12: string\n",
       "s13: string\n",
       "s14: string\n",
       "s15: string\n",
       "s16: string\n",
       "s17: string\n",
       "s18: string\n",
       "s19: string\n",
       "s20: string\n",
       "s21: string\n",
       "s22: string\n",
       "s23: string\n",
       "s24: string\n",
       "s25: string\n",
       "s26: string"
      ]
     },
     "execution_count": 9,
     "metadata": {},
     "output_type": "execute_result"
    }
   ],
   "source": [
    "labelschema = [(\"label\", pa.int8())]\n",
    "intschema = [(colname, pa.int32()) for colname in intcols]\n",
    "strschema = [(colname, pa.string()) for colname in strcols]\n",
    "\n",
    "schema = pa.schema(labelschema + intschema + strschema)\n",
    "schema"
   ]
  },
  {
   "cell_type": "code",
   "execution_count": 10,
   "metadata": {},
   "outputs": [],
   "source": [
    "criteo = ds.dataset(source=src, schema=schema, format=fileformat)"
   ]
  },
  {
   "cell_type": "code",
   "execution_count": 12,
   "metadata": {},
   "outputs": [
    {
     "data": {
      "text/plain": [
       "PosixPath('/Users/avilay/temp/criteo-kaggle-small/data/parquet')"
      ]
     },
     "execution_count": 12,
     "metadata": {},
     "output_type": "execute_result"
    }
   ],
   "source": [
    "dst = DATAROOT / \"parquet\"\n",
    "dst"
   ]
  },
  {
   "cell_type": "code",
   "execution_count": 13,
   "metadata": {},
   "outputs": [
    {
     "data": {
      "text/plain": [
       "<pyarrow._dataset_parquet.ParquetFileWriteOptions at 0x106c4da80>"
      ]
     },
     "execution_count": 13,
     "metadata": {},
     "output_type": "execute_result"
    }
   ],
   "source": [
    "wo = ds.ParquetFileFormat().make_write_options(compression=\"gzip\")\n",
    "wo"
   ]
  },
  {
   "cell_type": "code",
   "execution_count": 14,
   "metadata": {},
   "outputs": [],
   "source": [
    "ds.write_dataset(criteo, dst, format=\"parquet\", file_options=wo)"
   ]
  },
  {
   "cell_type": "code",
   "execution_count": null,
   "metadata": {},
   "outputs": [],
   "source": []
  }
 ],
 "metadata": {
  "kernelspec": {
   "display_name": "Python 3.10.4 ('dev')",
   "language": "python",
   "name": "python3"
  },
  "language_info": {
   "codemirror_mode": {
    "name": "ipython",
    "version": 3
   },
   "file_extension": ".py",
   "mimetype": "text/x-python",
   "name": "python",
   "nbconvert_exporter": "python",
   "pygments_lexer": "ipython3",
   "version": "3.10.4"
  },
  "orig_nbformat": 4,
  "vscode": {
   "interpreter": {
    "hash": "248aaaef2ce54d580c63d0621ea4262f68d22105863a800468921850ea527b06"
   }
  }
 },
 "nbformat": 4,
 "nbformat_minor": 2
}

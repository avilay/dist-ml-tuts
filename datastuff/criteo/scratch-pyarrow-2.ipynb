{
 "cells": [
  {
   "cell_type": "code",
   "execution_count": 2,
   "metadata": {},
   "outputs": [],
   "source": [
    "import pyarrow as pa\n",
    "import pyarrow.csv as pcsv\n",
    "import pyarrow.dataset as ds\n",
    "from pathlib import Path"
   ]
  },
  {
   "cell_type": "code",
   "execution_count": 3,
   "metadata": {},
   "outputs": [
    {
     "data": {
      "text/plain": [
       "PosixPath('/home/admin/mldata/criteo/kaggle/parquet')"
      ]
     },
     "execution_count": 3,
     "metadata": {},
     "output_type": "execute_result"
    }
   ],
   "source": [
    "dataroot = Path.home() / \"mldata/criteo/kaggle\"\n",
    "pqroot = dataroot / \"parquet\"\n",
    "pqroot"
   ]
  },
  {
   "cell_type": "code",
   "execution_count": 4,
   "metadata": {},
   "outputs": [],
   "source": [
    "pqroot.mkdir(exist_ok=True)"
   ]
  },
  {
   "cell_type": "code",
   "execution_count": 5,
   "metadata": {},
   "outputs": [
    {
     "data": {
      "text/plain": [
       "PosixPath('/home/admin/mldata/criteo/kaggle/parquet/train.txt')"
      ]
     },
     "execution_count": 5,
     "metadata": {},
     "output_type": "execute_result"
    }
   ],
   "source": [
    "filename = \"train.txt\"\n",
    "dst = pqroot / filename\n",
    "dst"
   ]
  },
  {
   "cell_type": "code",
   "execution_count": 6,
   "metadata": {},
   "outputs": [
    {
     "data": {
      "text/plain": [
       "False"
      ]
     },
     "execution_count": 6,
     "metadata": {},
     "output_type": "execute_result"
    }
   ],
   "source": [
    "dst.exists()"
   ]
  },
  {
   "cell_type": "code",
   "execution_count": 7,
   "metadata": {},
   "outputs": [],
   "source": [
    "wo = ds.ParquetFileFormat().make_write_options(compression=\"gzip\")"
   ]
  },
  {
   "cell_type": "code",
   "execution_count": 8,
   "metadata": {},
   "outputs": [],
   "source": [
    "from prepare import load_tsv"
   ]
  },
  {
   "cell_type": "code",
   "execution_count": 11,
   "metadata": {},
   "outputs": [
    {
     "data": {
      "text/plain": [
       "PosixPath('/home/admin/mldata/criteo/kaggle/tsv/train_small.txt')"
      ]
     },
     "execution_count": 11,
     "metadata": {},
     "output_type": "execute_result"
    }
   ],
   "source": [
    "tsvroot = dataroot / \"tsv\"\n",
    "tsvfile = tsvroot / \"train_small.txt\"\n",
    "tsvfile"
   ]
  },
  {
   "cell_type": "code",
   "execution_count": 12,
   "metadata": {},
   "outputs": [
    {
     "name": "stdout",
     "output_type": "stream",
     "text": [
      "Loading /home/admin/mldata/criteo/kaggle/tsv/train_small.txt into dataset.\n"
     ]
    }
   ],
   "source": [
    "dataset = load_tsv(tsvfile)"
   ]
  },
  {
   "cell_type": "code",
   "execution_count": 16,
   "metadata": {},
   "outputs": [
    {
     "data": {
      "text/plain": [
       "'train_small'"
      ]
     },
     "execution_count": 16,
     "metadata": {},
     "output_type": "execute_result"
    }
   ],
   "source": [
    "tsvfile.stem"
   ]
  },
  {
   "cell_type": "code",
   "execution_count": 17,
   "metadata": {},
   "outputs": [],
   "source": [
    "ds.write_dataset(\n",
    "    dataset, \n",
    "    pqroot, \n",
    "    format=\"parquet\", \n",
    "    file_options=wo,\n",
    "    basename_template=\"train_small_{i}.parquet\"\n",
    ")"
   ]
  },
  {
   "cell_type": "code",
   "execution_count": 14,
   "metadata": {},
   "outputs": [],
   "source": [
    "tbl = dataset.to_table()"
   ]
  },
  {
   "cell_type": "code",
   "execution_count": 15,
   "metadata": {},
   "outputs": [
    {
     "data": {
      "text/plain": [
       "pyarrow.Table\n",
       "label: int8\n",
       "i1: int32\n",
       "i2: int32\n",
       "i3: int32\n",
       "i4: int32\n",
       "i5: int32\n",
       "i6: int32\n",
       "i7: int32\n",
       "i8: int32\n",
       "i9: int32\n",
       "i10: int32\n",
       "i11: int32\n",
       "i12: int32\n",
       "i13: int32\n",
       "s1: string\n",
       "s2: string\n",
       "s3: string\n",
       "s4: string\n",
       "s5: string\n",
       "s6: string\n",
       "s7: string\n",
       "s8: string\n",
       "s9: string\n",
       "s10: string\n",
       "s11: string\n",
       "s12: string\n",
       "s13: string\n",
       "s14: string\n",
       "s15: string\n",
       "s16: string\n",
       "s17: string\n",
       "s18: string\n",
       "s19: string\n",
       "s20: string\n",
       "s21: string\n",
       "s22: string\n",
       "s23: string\n",
       "s24: string\n",
       "s25: string\n",
       "s26: string\n",
       "----\n",
       "label: [[0,0,0,0,0,...,0,0,0,0,0]]\n",
       "i1: [[1,2,2,null,3,...,null,null,0,null,0]]\n",
       "i2: [[1,0,0,893,-1,...,1,160,1,11,1]]\n",
       "i3: [[5,44,1,null,null,...,5,null,null,2,1]]\n",
       "i4: [[0,1,14,null,0,...,2,6,null,2,1]]\n",
       "i5: [[1382,102,767,4392,2,...,41074,25352,2969,9408,8647]]\n",
       "i6: [[4,8,89,null,0,...,1896,155,126,42,null]]\n",
       "i7: [[15,2,4,0,3,...,0,51,3,7,0]]\n",
       "i8: [[2,2,2,0,0,...,2,6,27,2,9]]\n",
       "i9: [[181,4,245,0,0,...,968,233,77,55,1]]\n",
       "..."
      ]
     },
     "execution_count": 15,
     "metadata": {},
     "output_type": "execute_result"
    }
   ],
   "source": [
    "tbl"
   ]
  },
  {
   "cell_type": "code",
   "execution_count": null,
   "metadata": {},
   "outputs": [],
   "source": []
  }
 ],
 "metadata": {
  "kernelspec": {
   "display_name": "Python 3.10.4 ('dev')",
   "language": "python",
   "name": "python3"
  },
  "language_info": {
   "codemirror_mode": {
    "name": "ipython",
    "version": 3
   },
   "file_extension": ".py",
   "mimetype": "text/x-python",
   "name": "python",
   "nbconvert_exporter": "python",
   "pygments_lexer": "ipython3",
   "version": "3.10.4"
  },
  "orig_nbformat": 4,
  "vscode": {
   "interpreter": {
    "hash": "663147e40b4afd0b19bbc16928b97b883ecc70beefa895acda9474b33b61acef"
   }
  }
 },
 "nbformat": 4,
 "nbformat_minor": 2
}

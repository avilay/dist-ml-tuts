{
 "cells": [
  {
   "cell_type": "code",
   "execution_count": 1,
   "id": "695fb4bd",
   "metadata": {},
   "outputs": [],
   "source": [
    "import numpy as np\n",
    "import pandas as pd\n",
    "from pathlib import Path\n",
    "import pyarrow.parquet as pq\n",
    "from datetime import datetime"
   ]
  },
  {
   "cell_type": "code",
   "execution_count": 2,
   "id": "23478831",
   "metadata": {},
   "outputs": [
    {
     "data": {
      "text/plain": [
       "True"
      ]
     },
     "execution_count": 2,
     "metadata": {},
     "output_type": "execute_result"
    }
   ],
   "source": [
    "pqfile = Path.home() / \"mldata\" / \"criteo\" / \"day=0\" / \"data.parquet\"\n",
    "pqfile.exists()"
   ]
  },
  {
   "cell_type": "code",
   "execution_count": 3,
   "id": "7d99c31d",
   "metadata": {},
   "outputs": [
    {
     "name": "stdout",
     "output_type": "stream",
     "text": [
      "0:00:30.568017\n"
     ]
    }
   ],
   "source": [
    "start = datetime.now()\n",
    "clickstream = pq.read_table(pqfile, columns=[\"s2\"])\n",
    "end = datetime.now()\n",
    "print(end - start)"
   ]
  },
  {
   "cell_type": "code",
   "execution_count": 4,
   "id": "44eef2f6",
   "metadata": {},
   "outputs": [
    {
     "data": {
      "text/plain": [
       "pyarrow.Table\n",
       "s2: string\n",
       "----\n",
       "s2: [[\"e21f5d58\",\"a0aaffa6\",\"ad984203\",\"710103fd\",\"c2ced437\",...,\"7a06385f\",\"5b6b66b5\",\"a0d14bda\",\"7bf938bd\",\"1b2ff61f\"],[\"a05171f1\",\"8586f3ac\",\"51d00062\",\"20fd45c1\",\"8af1edc8\",...,\"cea68cd3\",\"98e2c109\",\"9f7583f2\",\"82b8086a\",\"50646d15\"],...,[\"7d89a97f\",\"69c95615\",\"ed6d949c\",\"710103fd\",\"efc01d31\",...,\"710a0099\",\"11074985\",\"f2de60c5\",\"000877b3\",\"c2ae8fa1\"],[\"ddae7c05\",\"bfea1d94\",\"11074985\",\"d7877afe\",\"9839a927\",...,\"710103fd\",\"e5bc48b3\",\"00032064\",\"5d3146e7\",\"710103fd\"]]"
      ]
     },
     "execution_count": 4,
     "metadata": {},
     "output_type": "execute_result"
    }
   ],
   "source": [
    "clickstream"
   ]
  },
  {
   "cell_type": "code",
   "execution_count": 6,
   "id": "1e37013b",
   "metadata": {},
   "outputs": [
    {
     "name": "stdout",
     "output_type": "stream",
     "text": [
      "0:00:08.545412\n"
     ]
    }
   ],
   "source": [
    "start = datetime.now()\n",
    "df = clickstream.to_pandas()\n",
    "end = datetime.now()\n",
    "print(end - start)"
   ]
  },
  {
   "cell_type": "code",
   "execution_count": 7,
   "id": "e76a2203",
   "metadata": {},
   "outputs": [
    {
     "name": "stdout",
     "output_type": "stream",
     "text": [
      "0:00:18.111300\n"
     ]
    }
   ],
   "source": [
    "start = datetime.now()\n",
    "toks = df[df[\"s2\"] != \"\"]\n",
    "end = datetime.now()\n",
    "print(end - start)"
   ]
  },
  {
   "cell_type": "code",
   "execution_count": 8,
   "id": "7c8b2d6e",
   "metadata": {},
   "outputs": [
    {
     "name": "stdout",
     "output_type": "stream",
     "text": [
      "0:00:20.406729\n"
     ]
    }
   ],
   "source": [
    "start = datetime.now()\n",
    "tok_freq = toks.groupby(\"s2\").size()\n",
    "end = datetime.now()\n",
    "print(end - start)"
   ]
  },
  {
   "cell_type": "code",
   "execution_count": 9,
   "id": "e294168b",
   "metadata": {},
   "outputs": [
    {
     "data": {
      "text/plain": [
       "s2\n",
       "00007246       901\n",
       "00032064    100195\n",
       "0006570e       722\n",
       "0006a0b0        29\n",
       "000877b3    154482\n",
       "dtype: int64"
      ]
     },
     "execution_count": 9,
     "metadata": {},
     "output_type": "execute_result"
    }
   ],
   "source": [
    "tok_freq.head()"
   ]
  },
  {
   "cell_type": "code",
   "execution_count": 10,
   "id": "933ffd9e",
   "metadata": {},
   "outputs": [],
   "source": [
    "outfile = Path.home() / \"mldata\" / \"criteo\" / \"day=0\" / \"s2stats.csv\""
   ]
  },
  {
   "cell_type": "code",
   "execution_count": 11,
   "id": "28a19b6d",
   "metadata": {},
   "outputs": [],
   "source": [
    "tok_freq.to_csv(outfile)"
   ]
  },
  {
   "cell_type": "code",
   "execution_count": 12,
   "id": "23392d1a",
   "metadata": {},
   "outputs": [
    {
     "name": "stdout",
     "output_type": "stream",
     "text": [
      "<class 'pandas.core.frame.DataFrame'>\n",
      "RangeIndex: 195841983 entries, 0 to 195841982\n",
      "Data columns (total 1 columns):\n",
      " #   Column  Dtype \n",
      "---  ------  ----- \n",
      " 0   s2      object\n",
      "dtypes: object(1)\n",
      "memory usage: 1.5+ GB\n"
     ]
    }
   ],
   "source": [
    "df.info()"
   ]
  },
  {
   "cell_type": "code",
   "execution_count": 13,
   "id": "d36a95dc",
   "metadata": {},
   "outputs": [
    {
     "name": "stdout",
     "output_type": "stream",
     "text": [
      "<class 'pandas.core.frame.DataFrame'>\n",
      "Int64Index: 195841983 entries, 0 to 195841982\n",
      "Data columns (total 1 columns):\n",
      " #   Column  Dtype \n",
      "---  ------  ----- \n",
      " 0   s2      object\n",
      "dtypes: object(1)\n",
      "memory usage: 2.9+ GB\n"
     ]
    }
   ],
   "source": [
    "toks.info()"
   ]
  },
  {
   "cell_type": "code",
   "execution_count": 14,
   "id": "62aa68a0",
   "metadata": {},
   "outputs": [
    {
     "data": {
      "text/plain": [
       "29427"
      ]
     },
     "execution_count": 14,
     "metadata": {},
     "output_type": "execute_result"
    }
   ],
   "source": [
    "df.s2.nunique()"
   ]
  },
  {
   "cell_type": "code",
   "execution_count": null,
   "id": "9ee9ce64",
   "metadata": {},
   "outputs": [],
   "source": []
  }
 ],
 "metadata": {
  "kernelspec": {
   "display_name": "Python 3.10.6 ('ai')",
   "language": "python",
   "name": "python3"
  },
  "language_info": {
   "codemirror_mode": {
    "name": "ipython",
    "version": 3
   },
   "file_extension": ".py",
   "mimetype": "text/x-python",
   "name": "python",
   "nbconvert_exporter": "python",
   "pygments_lexer": "ipython3",
   "version": "3.10.6"
  },
  "vscode": {
   "interpreter": {
    "hash": "c957e4ca480fc31da01b2648e097b4e55db834b6351128636991f182c884d81e"
   }
  }
 },
 "nbformat": 4,
 "nbformat_minor": 5
}
